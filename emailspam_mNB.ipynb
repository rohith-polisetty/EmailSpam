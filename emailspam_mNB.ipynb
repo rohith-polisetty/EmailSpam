{
 "cells": [
  {
   "cell_type": "code",
   "execution_count": null,
   "id": "cbb41896",
   "metadata": {},
   "outputs": [
    {
     "name": "stdout",
     "output_type": "stream",
     "text": [
      "Classification Report:\n",
      "               precision    recall  f1-score   support\n",
      "\n",
      "           0       0.97      0.93      0.95       340\n",
      "           1       0.95      0.98      0.96       471\n",
      "\n",
      "    accuracy                           0.96       811\n",
      "   macro avg       0.96      0.95      0.96       811\n",
      "weighted avg       0.96      0.96      0.96       811\n",
      "\n",
      "Confusion Matrix:\n",
      " [[316  24]\n",
      " [ 11 460]]\n"
     ]
    }
   ],
   "source": [
    "import os\n",
    "import re\n",
    "from email import message_from_file\n",
    "import nltk\n",
    "from sklearn.model_selection import train_test_split\n",
    "from sklearn.feature_extraction.text import TfidfVectorizer\n",
    "from sklearn.naive_bayes import MultinomialNB\n",
    "from sklearn.metrics import classification_report, confusion_matrix\n",
    "\n",
    "# Download NLTK stopwords (first time only)\n",
    "nltk.download('stopwords')\n",
    "from nltk.corpus import stopwords\n",
    "\n",
    "# --------- Load Emails ---------\n",
    "def load_emails_from_dir(dir_path, label):\n",
    "    emails = []\n",
    "    for filename in os.listdir(dir_path):\n",
    "        filepath = os.path.join(dir_path, filename)\n",
    "        if not os.path.isfile(filepath):  # skip directories\n",
    "            continue\n",
    "        try:\n",
    "            with open(filepath, 'r', encoding='latin1') as f:\n",
    "                msg = message_from_file(f)\n",
    "                payload = msg.get_payload()\n",
    "                # Some emails have multipart payloads\n",
    "                if isinstance(payload, list):\n",
    "                    body = ''.join([str(part.get_payload()) for part in payload])\n",
    "                else:\n",
    "                    body = str(payload)\n",
    "                emails.append((body, label))\n",
    "        except Exception as e:\n",
    "            print(f\"Error reading {filename}: {e}\")\n",
    "    return emails\n",
    "\n",
    "# Load spam and ham\n",
    "ham_emails = load_emails_from_dir('spam assasin/ham', 0)\n",
    "spam_emails = load_emails_from_dir('spam assasin/spam', 1)\n",
    "hard_ham_emails = load_emails_from_dir('spam assasin/hard_ham', 0)\n",
    "all_emails = ham_emails + spam_emails + hard_ham_emails\n",
    "\n",
    "# Separate texts and labels\n",
    "texts, labels = zip(*all_emails)\n",
    "\n",
    "# --------- Preprocessing ---------\n",
    "def clean_text(text):\n",
    "    # Lowercase\n",
    "    text = text.lower()\n",
    "    # Remove non-alphabetical characters\n",
    "    text = re.sub(r'[^a-z\\s]', '', text)\n",
    "    # Remove stopwords\n",
    "    stop_words = set(stopwords.words('english'))\n",
    "    text = ' '.join([word for word in text.split() if word not in stop_words])\n",
    "    return text\n",
    "\n",
    "cleaned_texts = [clean_text(email) for email in texts]\n",
    "\n",
    "# --------- Vectorization ---------\n",
    "vectorizer = TfidfVectorizer(max_features=3000)\n",
    "X = vectorizer.fit_transform(cleaned_texts)\n",
    "y = labels\n",
    "\n",
    "# --------- Split Data ---------\n",
    "X_train, X_test, y_train, y_test = train_test_split(X, y, test_size=0.2, random_state=42)\n",
    "\n",
    "# --------- Train Model ---------\n",
    "clf = MultinomialNB()\n",
    "clf.fit(X_train, y_train)\n",
    "\n",
    "# --------- Evaluate Model ---------\n",
    "y_pred = clf.predict(X_test)\n",
    "print(\"Classification Report:\\n\", classification_report(y_test, y_pred))\n",
    "print(\"Confusion Matrix:\\n\", confusion_matrix(y_test, y_pred))\n"
   ]
  },
  {
   "cell_type": "code",
   "execution_count": 27,
   "id": "23c5e62d",
   "metadata": {},
   "outputs": [
    {
     "data": {
      "text/plain": [
       "['C:\\\\Users\\\\rohit\\\\OneDrive\\\\Desktop\\\\naive_bayes_model.joblib']"
      ]
     },
     "execution_count": 27,
     "metadata": {},
     "output_type": "execute_result"
    }
   ],
   "source": [
    "import joblib\n",
    "\n",
    "# Save the TF-IDF Vectorizer\n",
    "joblib.dump(vectorizer, r'C:\\Users\\rohit\\OneDrive\\Desktop\\tfidf_vectorizer.joblib')\n",
    "\n",
    "# Save the Multinomial Naive Bayes model\n",
    "joblib.dump(clf, r'C:\\Users\\rohit\\OneDrive\\Desktop\\naive_bayes_model.joblib')\n"
   ]
  }
 ],
 "metadata": {
  "kernelspec": {
   "display_name": "Python 3",
   "language": "python",
   "name": "python3"
  },
  "language_info": {
   "codemirror_mode": {
    "name": "ipython",
    "version": 3
   },
   "file_extension": ".py",
   "mimetype": "text/x-python",
   "name": "python",
   "nbconvert_exporter": "python",
   "pygments_lexer": "ipython3",
   "version": "3.13.3"
  }
 },
 "nbformat": 4,
 "nbformat_minor": 5
}
